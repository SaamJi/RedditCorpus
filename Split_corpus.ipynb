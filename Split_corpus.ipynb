{
 "cells": [
  {
   "cell_type": "code",
   "execution_count": 1,
   "metadata": {},
   "outputs": [],
   "source": [
    "import pandas as pd\n",
    "import time\n",
    "import os\n",
    "from os.path import exists\n",
    "from collections import defaultdict\n",
    "import json "
   ]
  },
  {
   "cell_type": "code",
   "execution_count": null,
   "metadata": {},
   "outputs": [],
   "source": [
    "# start = time.time()\n",
    "# df = pd.read_json('RC_2009-04', orient=\"records\",lines=True)\n",
    "# end = time.time()\n",
    "# print(\"time:\", end-start)"
   ]
  },
  {
   "cell_type": "code",
   "execution_count": null,
   "metadata": {},
   "outputs": [],
   "source": [
    "#DEPRECATED\n",
    "#read in JSON line-by-line\n",
    "#check if subreddit\n",
    "\n",
    "# import json\n",
    "\n",
    "# cnt = 0\n",
    "# start = time.time()\n",
    "# body_dir = 'raw_body_text/'\n",
    "# file ='RC_2012-12' \n",
    "# with open(file) as f:\n",
    "#     if not exists(os.path.join(body_dir, file)):\n",
    "#         os.mkdir(os.path.join(body_dir, file))\n",
    "#     for line in f:\n",
    "#         cnt+=1\n",
    "#         data_line = json.loads(line)\n",
    "#         path_to_file = body_dir+file+\"/\"+file+\"_\"+data_line['subreddit']+\".txt\"\n",
    "#         if not exists(path_to_file):\n",
    "#             f = open(path_to_file, \"w\")\n",
    "#             f.write(data_line['body'])\n",
    "#             f.close()\n",
    "#         else:\n",
    "#             f = open(path_to_file, \"a\")\n",
    "#             f.write(data_line['body'])\n",
    "#             f.close() \n",
    "# #         if(cnt >10):\n",
    "# #             break\n",
    "# end = time.time()\n",
    "# print(\"time:\", end-start)\n",
    "\n",
    "\n"
   ]
  },
  {
   "cell_type": "code",
   "execution_count": 2,
   "metadata": {},
   "outputs": [
    {
     "name": "stdout",
     "output_type": "stream",
     "text": [
      "time: 8.847997903823853\n"
     ]
    }
   ],
   "source": [
    "#read in JSON line-by-line\n",
    "#check if subreddit\n",
    "d = defaultdict(list)    \n",
    "    \n",
    "cnt = 0\n",
    "start = time.time()\n",
    "body_dir = 'raw_body_text/'\n",
    "file ='RC_2008-12' \n",
    "with open(file) as f:\n",
    "    if not exists(os.path.join(body_dir, file)):\n",
    "        os.mkdir(os.path.join(body_dir, file))\n",
    "    for line in f:\n",
    "        cnt+=1\n",
    "        data_line = json.loads(line)\n",
    "        #create or append body to subreddit key\n",
    "        d[data_line['subreddit']].append(data_line['body'])\n",
    "        if(cnt % 50000000 == 49999999):\n",
    "#             print(f\"----- We've read {cnt} lines -----\")\n",
    "            for item in d:\n",
    "                path_to_file = body_dir+file+\"/\"+file+\"_\"+item+\".txt\"\n",
    "                if not exists(path_to_file):\n",
    "                    f = open(path_to_file, \"w\")\n",
    "                    f.write(' '.join(d[item]))\n",
    "                    f.close()\n",
    "                else:\n",
    "                    f = open(path_to_file, \"a\")\n",
    "                    f.write(' '.join(d[item]))\n",
    "                    f.close()\n",
    "            d = defaultdict(list)\n",
    "#append any stragglers\n",
    "    for item in d:\n",
    "        path_to_file = body_dir+file+\"/\"+file+\"_\"+item+\".txt\"\n",
    "        if not exists(path_to_file):\n",
    "            f = open(path_to_file, \"w\")\n",
    "            f.write(' '.join(d[item]))\n",
    "            f.close()\n",
    "        else:\n",
    "            f = open(path_to_file, \"a\")\n",
    "            f.write(' '.join(d[item]))\n",
    "            f.close()\n",
    "end = time.time()\n",
    "print(\"time:\", end-start)\n"
   ]
  },
  {
   "attachments": {},
   "cell_type": "markdown",
   "metadata": {},
   "source": [
    "#Code for if writing is the slow part\n",
    "\n",
    "{subreddit1: [list of all bodies],\n",
    "subreddit2: [list of all bodies], \n",
    "...}\n",
    "for line in file:\n",
    "    extract .body and put .body into list for that .subreddit\n",
    "    {.subreddit .append(.body)}\n",
    "    if our memory is low:\n",
    "        write all the dictionary lists to files\n",
    "        and clear dictionary\n",
    "    else:\n",
    "        keeep going\n",
    "        \n",
    "        \n",
    "#code for is loading json is slow\n",
    "first: sort the lines by subreddit, \n",
    "    concat the dictionaries for the same sub\n",
    "    read the concat files"
   ]
  },
  {
   "cell_type": "code",
   "execution_count": null,
   "metadata": {},
   "outputs": [],
   "source": [
    "df.head(1)"
   ]
  },
  {
   "cell_type": "code",
   "execution_count": null,
   "metadata": {},
   "outputs": [],
   "source": [
    "len(df['subreddit'].unique())"
   ]
  },
  {
   "cell_type": "code",
   "execution_count": null,
   "metadata": {},
   "outputs": [],
   "source": [
    "#how many subreddits?\n",
    "#distribution of comments (histogram over subreddits)\n",
    "# top n words in each sub\n",
    "\n",
    "------\n",
    "# tf-idf in each sub\n",
    "#start with tf-idf in just two vectors"
   ]
  },
  {
   "cell_type": "code",
   "execution_count": null,
   "metadata": {},
   "outputs": [],
   "source": [
    "v1 = ['a', 'b', 'c', 'c','c']# ~~ a:1, b:1, c3\n",
    "v2 = ['a','a','a','b','d']\n",
    "\n"
   ]
  }
 ],
 "metadata": {
  "kernelspec": {
   "display_name": "Python 3",
   "language": "python",
   "name": "python3"
  },
  "language_info": {
   "codemirror_mode": {
    "name": "ipython",
    "version": 3
   },
   "file_extension": ".py",
   "mimetype": "text/x-python",
   "name": "python",
   "nbconvert_exporter": "python",
   "pygments_lexer": "ipython3",
   "version": "3.7.6"
  }
 },
 "nbformat": 4,
 "nbformat_minor": 4
}
