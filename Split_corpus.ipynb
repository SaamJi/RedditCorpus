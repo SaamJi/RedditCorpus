{
 "cells": [
  {
   "cell_type": "code",
   "execution_count": 15,
   "metadata": {},
   "outputs": [],
   "source": [
    "import pandas as pd\n",
    "import time\n",
    "import os\n",
    "from os.path import exists\n",
    "from collections import defaultdict\n",
    "import json"
   ]
  },
  {
   "cell_type": "code",
   "execution_count": 1,
   "metadata": {},
   "outputs": [],
   "source": [
    "# start = time.time()\n",
    "# df = pd.read_json('RC_2009-04', orient=\"records\",lines=True)\n",
    "# end = time.time()\n",
    "# print(\"time:\", end-start)"
   ]
  },
  {
   "cell_type": "code",
   "execution_count": 32,
   "metadata": {},
   "outputs": [
    {
     "name": "stdout",
     "output_type": "stream",
     "text": [
      "time: 3690.853001356125\n"
     ]
    }
   ],
   "source": [
    "#read in JSON line-by-line\n",
    "#check if subreddit\n",
    "\n",
    "import json\n",
    "\n",
    "cnt = 0\n",
    "start = time.time()\n",
    "body_dir = 'raw_body_text/'\n",
    "file ='RC_2012-12' \n",
    "with open(file) as f:\n",
    "    if not exists(os.path.join(body_dir, file)):\n",
    "        os.mkdir(os.path.join(body_dir, file))\n",
    "    for line in f:\n",
    "        cnt+=1\n",
    "        data_line = json.loads(line)\n",
    "        path_to_file = body_dir+file+\"/\"+file+\"_\"+data_line['subreddit']+\".txt\"\n",
    "        if not exists(path_to_file):\n",
    "            f = open(path_to_file, \"w\")\n",
    "            f.write(data_line['body'])\n",
    "            f.close()\n",
    "        else:\n",
    "            f = open(path_to_file, \"a\")\n",
    "            f.write(data_line['body'])\n",
    "            f.close()\n",
    "#         if(cnt >10):\n",
    "#             break\n",
    "end = time.time()\n",
    "print(\"time:\", end-start)\n",
    "\n",
    "\n"
   ]
  },
  {
   "cell_type": "code",
   "execution_count": 39,
   "metadata": {},
   "outputs": [
    {
     "name": "stdout",
     "output_type": "stream",
     "text": [
      "time: 293.84549140930176\n"
     ]
    }
   ],
   "source": [
    "#read in JSON line-by-line\n",
    "#check if subreddit\n",
    "d = defaultdict(list)    \n",
    "    \n",
    "cnt = 0\n",
    "start = time.time()\n",
    "body_dir = 'raw_body_text/'\n",
    "file ='RC_2012-12' \n",
    "with open(file) as f:\n",
    "    if not exists(os.path.join(body_dir, file)):\n",
    "        os.mkdir(os.path.join(body_dir, file))\n",
    "    for line in f:\n",
    "        cnt+=1\n",
    "        data_line = json.loads(line)\n",
    "        #create or append body to subreddit key\n",
    "        d[data_line['subreddit']].append(data_line['body'])\n",
    "        if(cnt % 50000000 == 49999999):\n",
    "#             print(f\"----- We've read {cnt} lines -----\")\n",
    "            for item in d:\n",
    "                path_to_file = body_dir+file+\"/\"+file+\"_\"+item+\".txt\"\n",
    "                if not exists(path_to_file):\n",
    "                    f = open(path_to_file, \"w\")\n",
    "                    f.write(' '.join(d[item]))\n",
    "                    f.close()\n",
    "                else:\n",
    "                    f = open(path_to_file, \"a\")\n",
    "                    f.write(' '.join(d[item]))\n",
    "                    f.close()\n",
    "            d = defaultdict(list)\n",
    "#append any stragglers\n",
    "    for item in d:\n",
    "        path_to_file = body_dir+file+\"/\"+file+\"_\"+item+\".txt\"\n",
    "        if not exists(path_to_file):\n",
    "            f = open(path_to_file, \"w\")\n",
    "            f.write(' '.join(d[item]))\n",
    "            f.close()\n",
    "        else:\n",
    "            f = open(path_to_file, \"a\")\n",
    "            f.write(' '.join(d[item]))\n",
    "            f.close()\n",
    "end = time.time()\n",
    "print(\"time:\", end-start)\n"
   ]
  },
  {
   "cell_type": "code",
   "execution_count": null,
   "metadata": {},
   "outputs": [],
   "source": [
    "#Code for if writing is the slow part\n",
    "\n",
    "{subreddit1: [list of all bodies],\n",
    "subreddit2: [list of all bodies], \n",
    "...}\n",
    "for line in file:\n",
    "    extract .body and put .body into list for that .subreddit\n",
    "    {.subreddit .append(.body)}\n",
    "    if our memory is low:\n",
    "        write all the dictionary lists to files\n",
    "        and clear dictionary\n",
    "    else:\n",
    "        keeep going\n",
    "        \n",
    "        \n",
    "#code for is loading json is slow\n",
    "first: sort the lines by subreddit, \n",
    "    concat the dictionaries for the same sub\n",
    "    read the concat files"
   ]
  },
  {
   "cell_type": "code",
   "execution_count": 12,
   "metadata": {},
   "outputs": [
    {
     "data": {
      "text/html": [
       "<div>\n",
       "<style scoped>\n",
       "    .dataframe tbody tr th:only-of-type {\n",
       "        vertical-align: middle;\n",
       "    }\n",
       "\n",
       "    .dataframe tbody tr th {\n",
       "        vertical-align: top;\n",
       "    }\n",
       "\n",
       "    .dataframe thead th {\n",
       "        text-align: right;\n",
       "    }\n",
       "</style>\n",
       "<table border=\"1\" class=\"dataframe\">\n",
       "  <thead>\n",
       "    <tr style=\"text-align: right;\">\n",
       "      <th></th>\n",
       "      <th>created_utc</th>\n",
       "      <th>controversiality</th>\n",
       "      <th>gilded</th>\n",
       "      <th>downs</th>\n",
       "      <th>author</th>\n",
       "      <th>archived</th>\n",
       "      <th>id</th>\n",
       "      <th>score</th>\n",
       "      <th>body</th>\n",
       "      <th>subreddit</th>\n",
       "      <th>...</th>\n",
       "      <th>name</th>\n",
       "      <th>edited</th>\n",
       "      <th>link_id</th>\n",
       "      <th>author_flair_css_class</th>\n",
       "      <th>ups</th>\n",
       "      <th>distinguished</th>\n",
       "      <th>subreddit_id</th>\n",
       "      <th>author_flair_text</th>\n",
       "      <th>parent_id</th>\n",
       "      <th>score_hidden</th>\n",
       "    </tr>\n",
       "  </thead>\n",
       "  <tbody>\n",
       "    <tr>\n",
       "      <th>0</th>\n",
       "      <td>1238544000</td>\n",
       "      <td>0</td>\n",
       "      <td>0</td>\n",
       "      <td>0</td>\n",
       "      <td>Wyrm</td>\n",
       "      <td>True</td>\n",
       "      <td>c08l2zd</td>\n",
       "      <td>5</td>\n",
       "      <td>That's pretty cool! Also really like the nuke ...</td>\n",
       "      <td>reddithax</td>\n",
       "      <td>...</td>\n",
       "      <td>t1_c08l2zd</td>\n",
       "      <td>0</td>\n",
       "      <td>t3_890rp</td>\n",
       "      <td>None</td>\n",
       "      <td>5</td>\n",
       "      <td>None</td>\n",
       "      <td>t5_2qtkl</td>\n",
       "      <td>None</td>\n",
       "      <td>t1_c08l2fn</td>\n",
       "      <td>False</td>\n",
       "    </tr>\n",
       "  </tbody>\n",
       "</table>\n",
       "<p>1 rows × 21 columns</p>\n",
       "</div>"
      ],
      "text/plain": [
       "   created_utc  controversiality  gilded  downs author  archived       id  \\\n",
       "0   1238544000                 0       0      0   Wyrm      True  c08l2zd   \n",
       "\n",
       "   score                                               body  subreddit  ...  \\\n",
       "0      5  That's pretty cool! Also really like the nuke ...  reddithax  ...   \n",
       "\n",
       "         name edited   link_id author_flair_css_class ups  distinguished  \\\n",
       "0  t1_c08l2zd      0  t3_890rp                   None   5           None   \n",
       "\n",
       "  subreddit_id author_flair_text   parent_id score_hidden  \n",
       "0     t5_2qtkl              None  t1_c08l2fn        False  \n",
       "\n",
       "[1 rows x 21 columns]"
      ]
     },
     "execution_count": 12,
     "metadata": {},
     "output_type": "execute_result"
    }
   ],
   "source": [
    "df.head(1)"
   ]
  },
  {
   "cell_type": "code",
   "execution_count": 15,
   "metadata": {},
   "outputs": [
    {
     "data": {
      "text/plain": [
       "1334"
      ]
     },
     "execution_count": 15,
     "metadata": {},
     "output_type": "execute_result"
    }
   ],
   "source": [
    "len(df['subreddit'].unique())"
   ]
  },
  {
   "cell_type": "code",
   "execution_count": null,
   "metadata": {},
   "outputs": [],
   "source": [
    "#how many subreddits?\n",
    "#distribution of comments (histogram over subreddits)\n",
    "# top n words in each sub\n",
    "\n",
    "------\n",
    "# tf-idf in each sub\n",
    "#start with tf-idf in just two vectors"
   ]
  },
  {
   "cell_type": "code",
   "execution_count": null,
   "metadata": {},
   "outputs": [],
   "source": [
    "v1 = ['a', 'b', 'c', 'c','c']# ~~ a:1, b:1, c3\n",
    "v2 = ['a','a','a','b','d']\n",
    "\n"
   ]
  }
 ],
 "metadata": {
  "kernelspec": {
   "display_name": "Python 3",
   "language": "python",
   "name": "python3"
  },
  "language_info": {
   "codemirror_mode": {
    "name": "ipython",
    "version": 3
   },
   "file_extension": ".py",
   "mimetype": "text/x-python",
   "name": "python",
   "nbconvert_exporter": "python",
   "pygments_lexer": "ipython3",
   "version": "3.7.6"
  }
 },
 "nbformat": 4,
 "nbformat_minor": 4
}
