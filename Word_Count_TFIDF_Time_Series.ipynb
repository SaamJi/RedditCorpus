{
 "cells": [
  {
   "cell_type": "code",
   "execution_count": 8,
   "metadata": {},
   "outputs": [],
   "source": [
    "import os\n",
    "import time\n",
    "from IPython.display import clear_output\n",
    "from collections import defaultdict, Counter\n",
    "import math\n",
    "import nltk\n",
    "from nltk.corpus import stopwords\n",
    "import matplotlib.pyplot as plt\n",
    "import numpy as np\n",
    "import copy\n",
    "import random\n",
    "import pickle\n",
    "import warnings\n",
    "warnings.filterwarnings(\"ignore\")\n",
    "from sklearn.feature_extraction import DictVectorizer\n",
    "from sklearn.feature_extraction.text import TfidfTransformer"
   ]
  },
  {
   "cell_type": "code",
   "execution_count": 3,
   "metadata": {},
   "outputs": [],
   "source": [
    "stop_words = set(stopwords.words('english'))"
   ]
  },
  {
   "cell_type": "code",
   "execution_count": 4,
   "metadata": {},
   "outputs": [],
   "source": [
    "# must have n lines\n",
    "# read in contents of single file as dictionary\n",
    "# load all files as dict of dicts\n",
    "# calculate tf-idf for each word\n",
    "# get top n \n",
    "\n",
    "#sparse matrix representation"
   ]
  },
  {
   "cell_type": "code",
   "execution_count": 5,
   "metadata": {},
   "outputs": [],
   "source": [
    "## Function to extract top N for specific sub\n",
    "## Function to get idf for specific word"
   ]
  },
  {
   "attachments": {},
   "cell_type": "markdown",
   "metadata": {},
   "source": [
    "## Build the word count dictionary"
   ]
  },
  {
   "cell_type": "code",
   "execution_count": 12,
   "metadata": {},
   "outputs": [],
   "source": [
    "def build_word_count_dictionary(date):\n",
    "    '''\n",
    "    Provide a date in YYYY-MM format, you'll have to update it to match your src dir\n",
    "    '''\n",
    "    src_dir = f'/Users/choldawa/Documents/Projects/RedditCorpus/word_count/RC_{date}'\n",
    "\n",
    "    tick = time.time()\n",
    "\n",
    "    d = {}\n",
    "    problem_subs = []\n",
    "    cnt = 0\n",
    "    for file in os.listdir(src_dir):\n",
    "        path = src_dir+\"/\"+file\n",
    "        with open(path) as f:\n",
    "            filename = os.path.basename(file).split(\"_\")[2].split(\".\")[0]\n",
    "            clear_output(wait=True)\n",
    "            print(f\"working on: {filename}\")\n",
    "            tock = time.time()\n",
    "            print(f\"Time elapsed: {tock - tick} seconds\")\n",
    "            sub_d = {}\n",
    "            num_lines = sum(1 for line in open(path)) #must have at least 100 unique words\n",
    "            if num_lines > 100:\n",
    "                for line in f:\n",
    "                    try:\n",
    "                        (val, key) = line.strip().split() #invert the order \n",
    "                        if not any(map(str.isdigit, key)) and int(val)>1: # each word must occur more than once\n",
    "                             if key not in stop_words: #check if stopword   \n",
    "                                sub_d[key] = int(val)\n",
    "                    except:\n",
    "                        problem_subs.append(filename)\n",
    "                d[filename] = sub_d\n",
    "    end = time.time()\n",
    "    print(f\"Total subreddits: {len(d)}, Time elapsed: {end - tick} seconds for {date}\") \n",
    "    \n",
    "    return d"
   ]
  },
  {
   "attachments": {},
   "cell_type": "markdown",
   "metadata": {},
   "source": [
    "### Create the dictionary (this can take a couple of minutes depending on data size)"
   ]
  },
  {
   "cell_type": "code",
   "execution_count": 11,
   "metadata": {},
   "outputs": [
    {
     "name": "stdout",
     "output_type": "stream",
     "text": [
      "working on: CrowdfundedBoardgames\n",
      "Time elapsed: 96.41405010223389 seconds\n",
      "Total subreddits: 11427,             Time elapsed: 96.4146819114685 seconds for 2012-12\n"
     ]
    }
   ],
   "source": [
    "d = build_word_count_dictionary('2012-12')"
   ]
  },
  {
   "cell_type": "code",
   "execution_count": 58,
   "metadata": {},
   "outputs": [
    {
     "name": "stdout",
     "output_type": "stream",
     "text": [
      "Let's see a list of subreddit names: \n",
      "        ['terrariums', 'oklahoma', 'hackerspaces', 'TheContinuum', 'GothicMetal']\n",
      "        \n",
      "Here are some example common words in r/politics:\n",
      "[('people', 116175), ('would', 84858), ('dont', 77698), ('like', 70930), ('one', 56556)]\n"
     ]
    }
   ],
   "source": [
    "print(f\"\"\"Let's see a list of subreddit names: \n",
    "        {list(d.keys())[:5]}\n",
    "        \"\"\")\n",
    "\n",
    "\n",
    "subreddit = 'politics'\n",
    "print(f\"Here are some example common words in r/{subreddit}:\")\n",
    "print(list(d[subreddit].items())[:5])"
   ]
  },
  {
   "attachments": {},
   "cell_type": "markdown",
   "metadata": {},
   "source": [
    "## Get the count of subs that contain a target word"
   ]
  },
  {
   "cell_type": "code",
   "execution_count": 15,
   "metadata": {},
   "outputs": [],
   "source": [
    "def get_word_sub_count(word, month_dictionary):\n",
    "    '''\n",
    "    get the count subs in a given month that contain a gieven word\n",
    "    requires a word, and a dictionary for that month\n",
    "    '''\n",
    "    N = len(month_dictionary)\n",
    "    \n",
    "    cnt = 0\n",
    "    for s in month_dictionary:\n",
    "        if word in month_dictionary[s]: #count of subs where w appears\n",
    "            cnt += 1\n",
    "    return cnt"
   ]
  },
  {
   "cell_type": "code",
   "execution_count": 16,
   "metadata": {},
   "outputs": [
    {
     "data": {
      "text/plain": [
       "113"
      ]
     },
     "execution_count": 16,
     "metadata": {},
     "output_type": "execute_result"
    }
   ],
   "source": [
    "get_word_sub_count('bitcoin', d)"
   ]
  },
  {
   "attachments": {},
   "cell_type": "markdown",
   "metadata": {},
   "source": [
    "## Get tfi-idf transformer and matrix using sklearn"
   ]
  },
  {
   "cell_type": "code",
   "execution_count": 20,
   "metadata": {
    "scrolled": true
   },
   "outputs": [],
   "source": [
    "def build_vectorizer_tfidf_matrix(d):\n",
    "    \"\"\"\n",
    "    Provide the word count dictionary\n",
    "    Will output two objects: \n",
    "        - a dictVecotrizer which will be used to access the column names (words)\n",
    "        - the tfidf transformed matrix (sparse matrix) to get tf-idf values\n",
    "    \"\"\"\n",
    "    print(\"Building tfidf...\")\n",
    "    dv = DictVectorizer()\n",
    "    #D = [{'foo': 1, 'bar': 2}, {'foo': 3, 'baz': 1}] #EXAMPLE FORMAT\n",
    "    X = dv.fit_transform(list(d.values()))\n",
    "    tv = TfidfTransformer()\n",
    "    tfidf = tv.fit_transform(X)\n",
    "    return dv, tfidf\n",
    "#     print(tfidf.toarray())"
   ]
  },
  {
   "cell_type": "code",
   "execution_count": 19,
   "metadata": {},
   "outputs": [
    {
     "data": {
      "text/plain": [
       "'staircases'"
      ]
     },
     "execution_count": 19,
     "metadata": {},
     "output_type": "execute_result"
    }
   ],
   "source": [
    "#Run vectorizer, this can take some time\n",
    "tfidf = build_vectorizer_tfidf_matrix(d)\n",
    "print(tfidf[1].toarray().shape)"
   ]
  },
  {
   "cell_type": "code",
   "execution_count": 29,
   "metadata": {},
   "outputs": [],
   "source": [
    "def get_top_k_tfidf(k, d, tfidf, subreddit):\n",
    "    '''\n",
    "    Get the top tfidf embeddings for a given subreddit\n",
    "    Takes: k (top k tfidf words), \n",
    "            month dictionary,\n",
    "            the tfidf matrix, \n",
    "            and target subreddit\n",
    "    '''\n",
    "    index = list(d.keys()).index(subreddit)\n",
    "    # Take the indices of the largest k elements from each row\n",
    "    top_k_inds = np.argsort(tfidf[1][index,:].toarray())[:, -1:-k - 1:-1]\n",
    "#     # Take the values at those indices\n",
    "#     top_k = np.take_along_axis(tfidf.toarray(), top_k_inds, axis=-1)\n",
    "#     top_k_pairs = np.stack((top_k_inds, top_k), axis=2)\n",
    "    \n",
    "    #return list of top words\n",
    "    top_tfidf_words = []\n",
    "    for ind in top_k_inds[0]:\n",
    "        top_tfidf_words.append(tfidf[0].get_feature_names()[ind])\n",
    "    return top_tfidf_words"
   ]
  },
  {
   "cell_type": "code",
   "execution_count": 31,
   "metadata": {},
   "outputs": [
    {
     "name": "stdout",
     "output_type": "stream",
     "text": [
      "The top 5 words for r/crazystairs are:\n"
     ]
    },
    {
     "data": {
      "text/plain": [
       "['stairs', 'nsfw', 'xpost', 'staircase', 'staircases']"
      ]
     },
     "execution_count": 31,
     "metadata": {},
     "output_type": "execute_result"
    }
   ],
   "source": [
    "k, subreddit = 5, 'crazystairs'\n",
    "\n",
    "print(f'The top {k} words for r/{subreddit} are:')\n",
    "get_top_k_tfidf(k, d, tfidf, subreddit)"
   ]
  },
  {
   "attachments": {},
   "cell_type": "markdown",
   "metadata": {},
   "source": [
    "## Get count of subs containing given word over time"
   ]
  },
  {
   "cell_type": "code",
   "execution_count": 34,
   "metadata": {},
   "outputs": [
    {
     "name": "stdout",
     "output_type": "stream",
     "text": [
      "working on: CrowdfundedBoardgames\n",
      "Time elapsed: 93.08437180519104 seconds\n",
      "Total subreddits: 11427, Time elapsed: 93.08520984649658 seconds for 2012-12\n"
     ]
    }
   ],
   "source": [
    "#Get count of subs containing given word over time\n",
    "date_list = ['2008-12', '2012-12']\n",
    "dict_list = []\n",
    "for date in date_list:\n",
    "    dict_list.append(build_word_count_dictionary(date))\n"
   ]
  },
  {
   "cell_type": "code",
   "execution_count": 48,
   "metadata": {},
   "outputs": [
    {
     "name": "stdout",
     "output_type": "stream",
     "text": [
      "[5, 56]\n"
     ]
    },
    {
     "data": {
      "image/png": "[encoded data removed]",
      "text/plain": [
       "<Figure size 432x288 with 1 Axes>"
      ]
     },
     "metadata": {
      "needs_background": "light"
     },
     "output_type": "display_data"
    }
   ],
   "source": [
    "word = 'crypto'\n",
    "sub_count_list = []\n",
    "\n",
    "for d in dict_list:\n",
    "    sub_count_list.append(get_word_sub_count(word, d))\n",
    "print(sub_count_list)\n",
    "plt.plot(date_list, sub_count_list)\n",
    "for x,y in zip(date_list,sub_count_list):\n",
    "\n",
    "    label = \"{:.0f}\".format(y)\n",
    "\n",
    "    plt.annotate(label, # this is the text\n",
    "                 (x,y), # these are the coordinates to position the label\n",
    "                 textcoords=\"offset points\", # how to position the text\n",
    "                 xytext=(0,1), # distance from text to points (x,y)\n",
    "                 ha='center') # horizontal alignment can be left, right or center\n",
    "plt.title(f\"Word: '{word}'\")\n",
    "plt.ylabel(\"Count of Subs\")\n",
    "plt.show()"
   ]
  },
  {
   "cell_type": "code",
   "execution_count": 49,
   "metadata": {},
   "outputs": [
    {
     "data": {
      "text/plain": [
       "[5, 56]"
      ]
     },
     "execution_count": 49,
     "metadata": {},
     "output_type": "execute_result"
    }
   ],
   "source": [
    "sub_count_list"
   ]
  },
  {
   "attachments": {},
   "cell_type": "markdown",
   "metadata": {},
   "source": [
    "### Plot histogram of word counts"
   ]
  },
  {
   "cell_type": "code",
   "execution_count": null,
   "metadata": {},
   "outputs": [],
   "source": [
    "print(f\"We have {len(df)} unique words and {len(d)} unique subreddits\")\n",
    "logD = {k:np.log10(v) for k, v in df.items()}\n",
    "plt.hist(logD.values(), bins = 25)\n",
    "plt.xlabel(\"Log10 num of subreddits\")\n",
    "plt.ylabel(\"Count of words\")\n",
    "plt.plot()"
   ]
  },
  {
   "attachments": {},
   "cell_type": "markdown",
   "metadata": {},
   "source": [
    "### Plotting sorted dict"
   ]
  },
  {
   "cell_type": "code",
   "execution_count": null,
   "metadata": {},
   "outputs": [],
   "source": [
    "sub_reddit = 'theoffice' # theoffice\n",
    "topN = 6\n",
    "x = list(dict(sorted(sub_dict[sub_reddit].items(), \n",
    "                           key=lambda item: item[1], reverse = True)\n",
    "                    [:topN]).keys())\n",
    "y = list(dict(sorted(sub_dict[sub_reddit].items(), \n",
    "                           key=lambda item: item[1], reverse = True)\n",
    "                    [:topN]).values())\n",
    "\n",
    "\n",
    "plt.bar(x,y, align='center')\n",
    "plt.xticks(rotation=70)\n",
    "plt.title(sub_reddit)\n",
    "plt.show()"
   ]
  }
 ],
 "metadata": {
  "kernelspec": {
   "display_name": "Python 3",
   "language": "python",
   "name": "python3"
  },
  "language_info": {
   "codemirror_mode": {
    "name": "ipython",
    "version": 3
   },
   "file_extension": ".py",
   "mimetype": "text/x-python",
   "name": "python",
   "nbconvert_exporter": "python",
   "pygments_lexer": "ipython3",
   "version": "3.7.6"
  }
 },
 "nbformat": 4,
 "nbformat_minor": 4
}
