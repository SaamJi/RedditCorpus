{
 "cells": [
  {
   "cell_type": "code",
   "execution_count": 5,
   "id": "264a04da",
   "metadata": {},
   "outputs": [],
   "source": [
    "#This notebook does two things:\n",
    "\n",
    "#1. Downloads all file with size less than a threshold\n",
    "#from https://files.pushshift.io/reddit/comments/\n",
    "#to the current working directory.   \n",
    "\n",
    "#2.Extract/Decompress all files(should be of .bz2, .xz, or .zst),\n",
    "#and add .json extension name to all extracted files."
   ]
  },
  {
   "cell_type": "code",
   "execution_count": null,
   "id": "347be6c7",
   "metadata": {},
   "outputs": [],
   "source": [
    "#1. Downloads all file with size less than a threshold\n",
    "#from https://files.pushshift.io/reddit/comments/\n",
    "#to the current working directory.\n",
    "\n",
    "import requests\n",
    "import bs4\n",
    "\n",
    "url = 'https://files.pushshift.io/reddit/comments/'\n",
    "request = requests.get(url)\n",
    "soup = bs4.BeautifulSoup(request.text,\"lxml\") "
   ]
  },
  {
   "cell_type": "code",
   "execution_count": 6,
   "id": "ab8401be",
   "metadata": {},
   "outputs": [
    {
     "name": "stdout",
     "output_type": "stream",
     "text": [
      "{'RC_2005-12.bz2': 118601, 'RC_2006-01.bz2': 350093, 'RC_2006-02.bz2': 916016, 'RC_2006-03.bz2': 1267030, 'RC_2006-04.bz2': 1982475, 'RC_2006-05.bz2': 2700115, 'RC_2006-06.bz2': 2908702, 'RC_2006-07.bz2': 3603630, 'RC_2006-08.bz2': 4991061, 'RC_2006-09.bz2': 5049674, 'RC_2006-10.bz2': 5060225, 'RC_2006-11.bz2': 5795186, 'RC_2006-12.bz2': 5822618, 'RC_2007-01.bz2': 7873495, 'RC_2007-02.bz2': 9026852, 'RC_2007-03.bz2': 10142399, 'RC_2007-04.bz2': 11129948, 'RC_2007-05.bz2': 15049827, 'RC_2007-06.bz2': 15501077, 'RC_2007-07.bz2': 17910446, 'RC_2007-08.bz2': 19221901, 'RC_2007-09.bz2': 22390360, 'RC_2007-10.bz2': 23829176, 'RC_2007-11.bz2': 28680340, 'RC_2007-12.bz2': 31154059, 'RC_2008-01.bz2': 38009966, 'RC_2008-02.bz2': 37121419, 'RC_2008-03.bz2': 38882745, 'RC_2008-04.bz2': 39830391, 'RC_2008-05.bz2': 45261937, 'RC_2008-06.bz2': 49586793, 'RC_2008-07.bz2': 51534598, 'RC_2008-08.bz2': 51433739, 'RC_2008-09.bz2': 58698385, 'RC_2008-10.bz2': 67483217, 'RC_2008-11.bz2': 66712691, 'RC_2008-12.bz2': 73352558, 'RC_2009-01.bz2': 90817390, 'RC_2009-02.bz2': 82583307, 'RC_2009-03.bz2': 94006354, 'RC_2009-04.bz2': 97594462, 'RC_2009-05.bz2': 109779650, 'RC_2009-06.bz2': 116578382, 'RC_2009-07.bz2': 135828681, 'RC_2009-08.bz2': 160498522, 'RC_2009-09.bz2': 182427493, 'RC_2009-10.bz2': 209270021, 'RC_2009-11.bz2': 203713211, 'RC_2009-12.bz2': 233040123, 'RC_2010-01.bz2': 263729408, 'RC_2010-02.bz2': 249557741, 'RC_2010-03.bz2': 297251220, 'RC_2010-04.bz2': 291976790, 'RC_2010-05.bz2': 295382202, 'RC_2010-06.bz2': 318698686, 'RC_2010-07.bz2': 368751317, 'RC_2010-08.bz2': 388089581, 'RC_2010-09.bz2': 428512588, 'RC_2010-10.bz2': 462988916, 'RC_2010-11.bz2': 523421047, 'RC_2010-12.bz2': 550259674, 'RC_2011-01.bz2': 613090022, 'RC_2011-02.bz2': 594265282, 'RC_2011-03.bz2': 703989437, 'RC_2011-04.bz2': 688165795, 'RC_2011-05.bz2': 798043704, 'RC_2011-06.bz2': 884629071, 'RC_2011-07.bz2': 946128294, 'RC_2011-08.bz2': 1104365, 'RC_2011-09.bz2': 1096199, 'RC_2011-10.bz2': 1226577, 'RC_2011-11.bz2': 1246964, 'RC_2011-12.bz2': 1322739, 'RC_2012-01.bz2': 1514838, 'RC_2012-02.bz2': 1505314, 'RC_2012-03.bz2': 1678848, 'RC_2012-04.bz2': 1786140, 'RC_2012-05.bz2': 1918340, 'RC_2012-06.bz2': 2061159, 'RC_2012-07.bz2': 2254230, 'RC_2012-08.bz2': 2393773, 'RC_2012-09.bz2': 2177554, 'RC_2012-10.bz2': 2309252, 'RC_2012-11.bz2': 2306633, 'RC_2012-12.bz2': 2422804, 'RC_2013-01.bz2': 2830544, 'RC_2013-02.bz2': 2561792, 'RC_2013-03.bz2': 2895207, 'RC_2013-04.bz2': 3096324, 'RC_2013-05.bz2': 3123954, 'RC_2013-06.bz2': 3091928, 'RC_2013-07.bz2': 3325355, 'RC_2013-08.bz2': 3331962, 'RC_2013-09.bz2': 3065856, 'RC_2013-10.bz2': 3424818, 'RC_2013-11.bz2': 3548494, 'RC_2013-12.bz2': 3781581, 'RC_2014-01.bz2': 4162749, 'RC_2014-02.bz2': 3819871, 'RC_2014-03.bz2': 4198024, 'RC_2014-04.bz2': 4172005, 'RC_2014-05.bz2': 4247265, 'RC_2014-06.bz2': 4168192, 'RC_2014-07.bz2': 4675555, 'RC_2014-08.bz2': 4682277, 'RC_2014-09.bz2': 4480570, 'RC_2014-10.bz2': 4737003, 'RC_2014-11.bz2': 4609712, 'RC_2014-12.bz2': 4889955, 'RC_2015-01.bz2': 5452413, 'RC_2015-02.bz2': 4985254, 'RC_2015-03.bz2': 5613648, 'RC_2015-04.bz2': 5646999, 'RC_2015-05.bz2': 5658889, 'RC_2015-06.bz2': 5670120, 'RC_2015-07.bz2': 6111521, 'RC_2015-08.bz2': 5811661, 'RC_2015-09.bz2': 5483617, 'RC_2015-10.bz2': 5902461, 'RC_2015-11.bz2': 5692677, 'RC_2015-12.bz2': 5904534, 'RC_2016-01.bz2': 6309604, 'RC_2016-02.bz2': 6135642, 'RC_2016-03.bz2': 6469544, 'RC_2016-04.bz2': 6430359, 'RC_2016-05.bz2': 6570974, 'RC_2016-06.bz2': 6653701, 'RC_2016-07.bz2': 7022662, 'RC_2016-08.bz2': 7230129, 'RC_2016-09.bz2': 6715550, 'RC_2016-10.bz2': 6928908, 'RC_2016-11.bz2': 6928491, 'RC_2016-12.bz2': 7177298, 'RC_2017-01.bz2': 7812865, 'RC_2017-02.bz2': 7032957, 'RC_2017-03.bz2': 7907014, 'RC_2017-04.bz2': 7607259, 'RC_2017-05.bz2': 7379020, 'RC_2017-06.bz2': 7429675, 'RC_2017-07.bz2': 7784965, 'RC_2017-08.bz2': 7933300, 'RC_2017-09.bz2': 7763553, 'RC_2017-10.bz2': 9963378, 'RC_2017-11.bz2': 9971136, 'RC_2017-12.xz': 7635154, 'RC_2018-01.xz': 8228348, 'RC_2018-02.xz': 7752913, 'RC_2018-03.xz': 9594069, 'RC_2018-04.xz': 9116302, 'RC_2018-05.xz': 9397473, 'RC_2018-06.xz': 9721494, 'RC_2018-07.xz': 11122126, 'RC_2018-08.xz': 11112899, 'RC_2018-09.xz': 10715442, 'RC_2018-10.xz': 11521546, 'RC_2018-10.zst': 14828417, 'RC_2018-11.zst': 14188570, 'RC_2018-12.zst': 12519075, 'RC_2019-01.zst': 13862441, 'RC_2019-02.zst': 14039610, 'RC_2019-03.zst': 14641003, 'RC_2019-04.zst': 15531201, 'RC_2019-05.zst': 14693921, 'RC_2019-06.zst': 15702654, 'RC_2019-07.zst': 14557847, 'RC_2019-08.zst': 16789284, 'RC_2019-09.zst': 16098345, 'RC_2019-10.zst': 16939811, 'RC_2019-11.zst': 15908488, 'RC_2019-12.zst': 16972484, 'RC_2020-01.zst': 15532228, 'RC_2020-02.zst': 14916806, 'RC_2020-03.zst': 16378743, 'RC_2020-04.zst': 17826044, 'RC_2020-05.zst': 19190083, 'RC_2020-06.zst': 18954940, 'RC_2020-07.zst': 19781736, 'RC_2020-08.zst': 19732441, 'RC_2020-09.zst': 18421792, 'RC_2020-10.zst': 18749262, 'RC_2020-11.zst': 18418387, 'RC_2020-12.zst': 19222994, 'RC_2021-01.zst': 21275192, 'RC_2021-02.zst': 21143225, 'RC_2021-03.zst': 23011874, 'RC_2021-04.zst': 21525235, 'RC_2021-05.zst': 22396185, 'RC_2021-06.zst': 21520907}\n"
     ]
    }
   ],
   "source": [
    "#This cell returns each file's name and size(in bytes) as key-value pairs,\n",
    "#(eg. 'RC_2005-12.bz2': 118601) and store them in a dictionary(files_info).\n",
    "\n",
    "#This loop only capture file size between 1,000 and 999,999,999 bytes\n",
    "import re\n",
    "\n",
    "files_info = {}\n",
    "for link in soup.find_all('a'):\n",
    "    name = re.search(r'./RC_\\d{4}-\\d{2}.\\S{2,}', link.get('href'))\n",
    "    \n",
    "    #Change this part for a different range of file size.\n",
    "    size1 = re.search(r'\\d{1,},\\d{1,}', link.string)\n",
    "    size2 = re.search(r'\\d{1,},\\d{1,},\\d{1,}', link.string)\n",
    "    \n",
    "    if type(name) == re.Match:\n",
    "#         print(name.group()[2:])\n",
    "#         print(size.group())\n",
    "        if type(size1) == re.Match:\n",
    "            files_info.update({name.group()[2:]: int(size1.group().replace(',',''))})\n",
    "        if type(size2) == re.Match:\n",
    "            files_info.update({name.group()[2:]: int(size2.group().replace(',',''))})\n",
    "print(files_info)"
   ]
  },
  {
   "cell_type": "code",
   "execution_count": null,
   "id": "28904b87",
   "metadata": {},
   "outputs": [],
   "source": [
    "#Step2 Download all files with size less than a threshold from the website \n",
    "import wget\n",
    "\n",
    "#set threshold to be roughly 200MB.\n",
    "#TO DO: Customize this value.\n",
    "threshold = 200000000\n",
    "\n",
    "#Download all files with size less than 200MB to the current working directory\n",
    "#Should download every file until 'RC_2009-10.bz2'\n",
    "for name, size in files_info.items():\n",
    "    if size <= threshold:\n",
    "        wget.download(url + name)"
   ]
  },
  {
   "cell_type": "code",
   "execution_count": null,
   "id": "9c37a18a",
   "metadata": {},
   "outputs": [],
   "source": [
    "#The code below is from https://gist.github.com/kissgyorgy/6102803\n",
    "#It provides another way of downloading files from a website.\n",
    "\n",
    "# import urllib2\n",
    "\n",
    "# url = \"http://download.thinkbroadband.com/10MB.zip\"\n",
    "\n",
    "# file_name = url.split('/')[-1]\n",
    "# u = urllib2.urlopen(url)\n",
    "# f = open(file_name, 'wb')\n",
    "# meta = u.info()\n",
    "# file_size = int(meta.getheaders(\"Content-Length\")[0])\n",
    "# print \"Downloading: %s Bytes: %s\" % (file_name, file_size)\n",
    "\n",
    "# file_size_dl = 0\n",
    "# block_sz = 8192\n",
    "# while True:\n",
    "#     buffer = u.read(block_sz)\n",
    "#     if not buffer:\n",
    "#         break\n",
    "\n",
    "#     file_size_dl += len(buffer)\n",
    "#     f.write(buffer)\n",
    "#     status = r\"%10d  [%3.2f%%]\" % (file_size_dl, file_size_dl * 100. / file_size)\n",
    "#     status = status + chr(8)*(len(status)+1)\n",
    "#     print status,\n",
    "\n",
    "# f.close()"
   ]
  },
  {
   "cell_type": "code",
   "execution_count": null,
   "id": "e6f10c7d",
   "metadata": {},
   "outputs": [],
   "source": [
    "#Note: Decided to decompress using bash scripts.\n",
    "# This part is not finished.\n",
    "\n",
    "\n",
    "#2.Extract/Decompress all files(should be of .bz2, .xz, or .zst),\n",
    "#and add .json extension name to all extracted files."
   ]
  },
  {
   "cell_type": "code",
   "execution_count": 1,
   "id": "88dfe4ed",
   "metadata": {},
   "outputs": [
    {
     "data": {
      "text/plain": [
       "'C:\\\\Users\\\\18583\\\\Desktop\\\\Lab\\\\Week3'"
      ]
     },
     "execution_count": 1,
     "metadata": {},
     "output_type": "execute_result"
    }
   ],
   "source": [
    "pwd"
   ]
  },
  {
   "cell_type": "code",
   "execution_count": 7,
   "id": "7de3a117",
   "metadata": {},
   "outputs": [
    {
     "data": {
      "text/plain": [
       "['.ipynb_checkpoints',\n",
       " 'Download_and_Decompress_All_Files.ipynb',\n",
       " 'RC_2005-12',\n",
       " 'RC_2006-01.bz2',\n",
       " 'RC_2006-02.bz2',\n",
       " 'RC_2006-03.bz2',\n",
       " 'RC_2006-04.bz2',\n",
       " 'RC_2006-05.bz2',\n",
       " 'RC_2006-06.bz2',\n",
       " 'RC_2006-07.bz2',\n",
       " 'RC_2006-08.bz2',\n",
       " 'RC_2006-09.bz2',\n",
       " 'RC_2006-10.bz2',\n",
       " 'RC_2006-11.bz2',\n",
       " 'RC_2006-12.bz2',\n",
       " 'RC_2007-01.bz2',\n",
       " 'RC_2007-02.bz2',\n",
       " 'RC_2007-03.bz2',\n",
       " 'RC_2007-04.bz2',\n",
       " 'RC_2007-05.bz2',\n",
       " 'RC_2007-06.bz2',\n",
       " 'RC_2007-07.bz2',\n",
       " 'RC_2007-08.bz2',\n",
       " 'RC_2007-09.bz2',\n",
       " 'RC_2007-10.bz2',\n",
       " 'RC_2007-11.bz2',\n",
       " 'RC_2007-12.bz2',\n",
       " 'RC_2008-01.bz2',\n",
       " 'RC_2008-02.bz2',\n",
       " 'RC_2008-03.bz2',\n",
       " 'RC_2008-04.bz2',\n",
       " 'RC_2008-05.bz2',\n",
       " 'RC_2008-06.bz2',\n",
       " 'RC_2008-07.bz2',\n",
       " 'RC_2008-08.bz2',\n",
       " 'RC_2008-09.bz2ct5nvzyh.tmp']"
      ]
     },
     "execution_count": 7,
     "metadata": {},
     "output_type": "execute_result"
    }
   ],
   "source": [
    "#Use OS module to access all files in current working directory\n",
    "import os\n",
    "os.getcwd()\n",
    "os.listdir()"
   ]
  },
  {
   "cell_type": "code",
   "execution_count": 9,
   "id": "97f0d587",
   "metadata": {},
   "outputs": [
    {
     "name": "stdout",
     "output_type": "stream",
     "text": [
      "RC_2006-01.bz2\n",
      "RC_2006-02.bz2\n",
      "RC_2006-03.bz2\n",
      "RC_2006-04.bz2\n",
      "RC_2006-05.bz2\n",
      "RC_2006-06.bz2\n",
      "RC_2006-07.bz2\n",
      "RC_2006-08.bz2\n",
      "RC_2006-09.bz2\n",
      "RC_2006-10.bz2\n",
      "RC_2006-11.bz2\n",
      "RC_2006-12.bz2\n",
      "RC_2007-01.bz2\n",
      "RC_2007-02.bz2\n",
      "RC_2007-03.bz2\n",
      "RC_2007-04.bz2\n",
      "RC_2007-05.bz2\n",
      "RC_2007-06.bz2\n",
      "RC_2007-07.bz2\n",
      "RC_2007-08.bz2\n",
      "RC_2007-09.bz2\n",
      "RC_2007-10.bz2\n",
      "RC_2007-11.bz2\n",
      "RC_2007-12.bz2\n",
      "RC_2008-01.bz2\n",
      "RC_2008-02.bz2\n",
      "RC_2008-03.bz2\n",
      "RC_2008-04.bz2\n",
      "RC_2008-05.bz2\n",
      "RC_2008-06.bz2\n",
      "RC_2008-07.bz2\n",
      "RC_2008-08.bz2\n"
     ]
    }
   ],
   "source": [
    "#Using bz2 to decompress bz2 files\n",
    "#Using bz2 to decompress bz2 files\n",
    "#Using bz2 to decompress bz2 files\n",
    "\n",
    "import bz2\n",
    "for file in os.listdir():\n",
    "    if file.endswith('.bz2'):\n",
    "    #\n",
    "        print(file)\n",
    "        dec = bz2.BZ2Decompressor()\n",
    "        with open(file, \"rb\") as fobj:\n",
    "            data = fobj.read()\n",
    "        data = dec.decompress(data)\n",
    "    elif file.endswith('.xz'):\n",
    "    #\n",
    "        print(file)\n",
    "    elif file.endswith('.zst'):\n",
    "    #\n",
    "        print(file)"
   ]
  },
  {
   "cell_type": "code",
   "execution_count": null,
   "id": "e763529b",
   "metadata": {},
   "outputs": [],
   "source": [
    "#Below is an optional code that traverses all folders, subfolders,\n",
    "#and files in file_path\n",
    "\n",
    "# file_path = os.getcwd()\n",
    "# for folder, sub_folders, files in os.walk(file_path):\n",
    "#     print(f'Currently looking at folder: {folder}')\n",
    "#     print('\\n')\n",
    "#     for sub in sub_folders:\n",
    "#         print(f'Subfolder name: {sub}')\n",
    "#     print('\\n')\n",
    "#     for f in files:\n",
    "#         print(f'file name: {f}')\n",
    "#     print('\\n')"
   ]
  },
  {
   "cell_type": "code",
   "execution_count": null,
   "id": "dbfbfbd4",
   "metadata": {},
   "outputs": [],
   "source": []
  }
 ],
 "metadata": {
  "kernelspec": {
   "display_name": "Python 3",
   "language": "python",
   "name": "python3"
  },
  "language_info": {
   "codemirror_mode": {
    "name": "ipython",
    "version": 3
   },
   "file_extension": ".py",
   "mimetype": "text/x-python",
   "name": "python",
   "nbconvert_exporter": "python",
   "pygments_lexer": "ipython3",
   "version": "3.8.8"
  }
 },
 "nbformat": 4,
 "nbformat_minor": 5
}
