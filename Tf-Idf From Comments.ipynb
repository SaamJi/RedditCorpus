{
 "cells": [
  {
   "cell_type": "code",
   "execution_count": 11,
   "metadata": {},
   "outputs": [],
   "source": [
    "import glob\n",
    "import os\n",
    "import re\n",
    "from collections import defaultdict\n",
    "import math"
   ]
  },
  {
   "cell_type": "markdown",
   "metadata": {},
   "source": [
    "## Test reading in a single subreddit"
   ]
  },
  {
   "cell_type": "code",
   "execution_count": 3,
   "metadata": {},
   "outputs": [
    {
     "data": {
      "text/plain": [
       "[('the', 661), ('i', 313), ('a', 302), ('to', 282), ('and', 278)]"
      ]
     },
     "execution_count": 3,
     "metadata": {},
     "output_type": "execute_result"
    }
   ],
   "source": [
    "dataDir = \"./word_count/\"\n",
    "yearMonth = \"RC_2009-04_\"\n",
    "subreddit = '\"anime\"'\n",
    "\n",
    "word_dict = {}\n",
    "file = open(dataDir + yearMonth + subreddit +'.txt')\n",
    "for line in file:\n",
    "    value, key = line.split() #count, word\n",
    "\n",
    "    word_dict[key] = int(value)\n",
    "\n",
    "list(word_dict.items())[:5]"
   ]
  },
  {
   "cell_type": "markdown",
   "metadata": {},
   "source": [
    "## Read in all subreddits to dictionary "
   ]
  },
  {
   "cell_type": "code",
   "execution_count": 4,
   "metadata": {},
   "outputs": [],
   "source": [
    "dataDir = \"./word_count/\"\n",
    "\n",
    "sub_dict = {}\n",
    "for filename in glob.glob(os.path.join(dataDir, '*.txt')):\n",
    "    subreddit = ''.join(re.findall('\"([^\"]*)\"', filename)) #get name of sub\n",
    "    word_dict = {}\n",
    "    with open(os.path.join(os.getcwd(), filename), 'r') as f: \n",
    "        for line in f:\n",
    "            value, key = line.split() #count, word\n",
    "\n",
    "            word_dict[key] = int(value)\n",
    "    sub_dict[subreddit] = word_dict\n"
   ]
  },
  {
   "cell_type": "code",
   "execution_count": 5,
   "metadata": {},
   "outputs": [
    {
     "data": {
      "text/plain": [
       "185"
      ]
     },
     "execution_count": 5,
     "metadata": {},
     "output_type": "execute_result"
    }
   ],
   "source": [
    "cnt = 0\n",
    "for s in sub_dict:\n",
    "    if 'the' in sub_dict[s]:\n",
    "        cnt+=1\n",
    "cnt"
   ]
  },
  {
   "cell_type": "code",
   "execution_count": 6,
   "metadata": {},
   "outputs": [],
   "source": [
    "N = len(sub_dict)\n",
    "\n",
    "df = defaultdict(int)\n",
    "for s in sub_dict:\n",
    "    for w in sub_dict[s]: #count of subs where w appears\n",
    "        df[w] += 1"
   ]
  },
  {
   "cell_type": "code",
   "execution_count": 13,
   "metadata": {},
   "outputs": [],
   "source": [
    "for s in sub_dict:\n",
    "    for key, value in sub_dict[s].items():\n",
    "        # Note = rather than +=, different versions of tf could be used instead\n",
    "        tfidf = ((value/\n",
    "                  (sum(sub_dict[s].values())-value+1)) *\n",
    "                 (math.log2(N / df[key])))\n",
    "        sub_dict[s][key] = tfidf\n",
    "    "
   ]
  },
  {
   "cell_type": "code",
   "execution_count": 14,
   "metadata": {},
   "outputs": [
    {
     "data": {
      "text/plain": [
       "dict_keys(['some', 'can', 'play', 'more', 'poker'])"
      ]
     },
     "execution_count": 14,
     "metadata": {},
     "output_type": "execute_result"
    }
   ],
   "source": [
    "dict(sorted(sub_dict['poker'].items(), key=lambda item: item[1])\n",
    "     [-5:]).keys()"
   ]
  },
  {
   "cell_type": "code",
   "execution_count": 15,
   "metadata": {},
   "outputs": [
    {
     "name": "stdout",
     "output_type": "stream",
     "text": [
      "WTF ['ahh', 'accomplished', 'abusing', 'abortions', '10000']\n",
      "poker ['some', 'can', 'play', 'more', 'poker']\n",
      "craigslist ['im', 'your', 'had', 'guy', 'dont']\n",
      "food ['fat', 'juice', 'meal', 'delicious', 'chicken']\n",
      "doctorwho ['is', 'and', 'it', 'of', 'that']\n",
      "javascript ['but', 'are', 'not', 'deleted', 'can']\n",
      "politics ['basing', 'analogous', 'ag', '250', '49']\n",
      "reddithax ['sure', 'css', 'theme', 'community', 'new']\n",
      "Design ['great', 'site', 'look', 'had', 'could']\n",
      "Survivalist ['with', 'at', 'they', 'people', 'flu']\n",
      "Austin ['its', 'they', 'as', 'about', 'but']\n",
      "Economics ['absence', '99', 'adjust', '90s', '16']\n",
      "Python ['does', 'django', 'function', 'call', 'been']\n",
      "iphone ['have', 'be', 'this', 'iphone', 'but']\n",
      "Israel ['completely', 'muslim', 'around', 'idf', 'attack']\n",
      "hackers ['it', 'on', 'this', 'was', 'information']\n",
      "starcraft ['was', 'but', 'he', 'vs', 'game']\n",
      "Cryptogon ['but', 'are', 'they', 'as', 'or']\n",
      "Christianity ['denomination', 'chance', 'conception', 'commandments', 'appear']\n",
      "windowshots ['in', 'and', 'it', 'you', 'that']\n",
      "SuicideWatch ['therapy', 'check', 'dark', 'along', 'act']\n",
      "collapse ['new', 'plants', 'now', 'these', 'other']\n",
      "NSFW_nospam ['deleted', 'like', 'are', 'her', 'she']\n",
      "nonprofit ['is', 'it', 'for', 'not', 'be']\n",
      "linux ['besides', 'b', 'deb', 'canonical', 'admit']\n",
      "Boobies ['is', 'that', 'you', 'deleted', 'her']\n",
      "Sexy ['in', 'for', 'her', 'deleted', 'she']\n",
      "tomorrowiwill ['is', 'for', 'be', 'my', 'im']\n",
      "ruby ['by', 'do', 'ruby', 'code', 'at']\n",
      "obama ['tell', 'her', 'line', 'health', 'article']\n",
      "australia ['australians', 'melbourne', 'problem', 'aussie', 'network']\n",
      "education ['or', 'at', 'they', 'as', 'their']\n",
      "funny ['audio', 'attached', 'anger', 'acceptable', '24']\n",
      "cogsci ['matter', 'hours', 'done', 'drugs', 'ai']\n",
      "joos ['as', 'with', 'your', 'why', 'have']\n",
      "lgbt ['seem', 'nothing', 'last', 'religious', 'having']\n",
      "cannabis ['people', 'its', 'we', 'marijuana', 'more']\n",
      "opensource ['will', 'windows', 'linux', 'there', 'good']\n",
      "MensRights ['except', 'males', 'disagree', 'cannot', 'based']\n",
      "Cooking ['recipe', 'any', 'green', 'kosher', 'cooking']\n",
      "4chan ['and', 'for', 'this', 'in', 'n']\n",
      "pics ['awhile', 'appearance', 'aww', 'apocalypse', 'african']\n",
      "Green ['so', 'would', 'can', 'tax', 'think']\n",
      "Fitness ['so', 'be', 'dont', 'can', 'as']\n",
      "economy ['understand', 'value', 'oh', 'kids', 'fuck']\n",
      "videos ['computer', 'direct', 'certainly', 'boring', 'beginning']\n",
      "web_design ['load', 'host', 'clear', 'editor', 'bandwidth']\n",
      "ja ['deleted']\n",
      "atheism ['accidents', 'affiliation', '22', '5050', '21']\n",
      "ass ['i', 'deleted', 'the']\n",
      "MapleLinks ['was', 'with', 'my', 'be', 'at']\n",
      "gaming ['advertising', '500', '14', '2fort', '1000']\n",
      "de ['einen', 'schon', 'ja', 'haben', 'habe']\n",
      "redditmusicclub ['subreddit', 'two', 'something', 'point', 'next']\n",
      "business ['attention', 'areas', 'amazing', '90', '9']\n",
      "xboxlive ['my', 'be', 'just', 'if', 'with']\n",
      "zombies ['with', 'as', 'they', 'zombie', 'be']\n",
      "pic ['the', 'i']\n",
      "japan ['japanese', 'from', 'japan', 'people', 'about']\n",
      "electronicmusic ['out', 'be', 'me', 'music', 'if']\n",
      "WeAreTheMusicMakers ['feedback', 'electronic', 'between', 'cover', 'artists']\n",
      "MMA ['ground', 'any', 'take', 'fighting', 'say']\n",
      "apple ['game', 'entire', 'imac', 'disk', 'basically']\n",
      "Metal ['my', 'they', 'have', 'metal', 'be']\n",
      "space ['shit', 'name', 'money', 'isnt', 'galaxy']\n",
      "PHP ['would', 'as', 'php', 'amp', 'used']\n",
      "sports ['let', 'else', 'already', 'agree', '4']\n",
      "geek ['eyes', 'dude', 'book', 'account', 'access']\n",
      "canada ['behind', 'citizenship', 'alcohol', 'above', '15']\n",
      "hardware ['but', 'on', 'be', 'have', 'if']\n",
      "math ['possible', 'having', 'distribution', 'geometry', 'already']\n",
      "Music ['electronic', 'boy', 'behind', 'average', 'asking']\n",
      "ZenHabits ['with', 'not', 'on', 'do', 'about']\n",
      "socialism ['id', 'deleted', 'revolution', 'however', 'am']\n",
      "hockey ['really', 'win', 'hes', 'yeah', 'even']\n",
      "compsci ['have', 'if', 'data', 'use', 'more']\n",
      "redditchan ['the']\n",
      "lisp ['more', 'lisp', 'women', 'than', 'all']\n",
      "history ['well', 'used', 'much', 'cavalry', 'could']\n",
      "tonightsdinner ['at', 'little', 'pan', 'pepper', 'garlic']\n",
      "india ['not', 'be', 'have', 'with', 'are']\n",
      "howto ['get', 'or', 'from', 'me', 'dont']\n",
      "Amateur ['a']\n",
      "humor ['two', 'theyre', 'show', 'own', 'every']\n",
      "energy ['heat', 'far', 'cars', 'actually', 'carbon']\n",
      "gundem ['bir']\n",
      "Anarchism ['hope', 'jesus', 'fuck', 'found', 'alternative']\n",
      "Frugal ['spend', 'her', 'hour', 'give', 'card']\n",
      "gardening ['or', 'will', 'they', 'your', 'not']\n",
      "Buddhism ['they', 'one', 'qigong', 'buddhism', 'about']\n",
      "PS3 ['ps3', 'games', 'there', 'or', 'ive']\n",
      "worldpolitics ['claim', 'until', 'matter', 'else', 'change']\n",
      "offbeat ['cash', 'beat', 'basic', 'apply', 'according']\n",
      "religion ['experience', 'change', 'big', 'around', 'always']\n",
      "grist ['and', 'is', 'it', 'deleted', 'that']\n",
      "Marijuana ['cocaine', 'arrested', 'apparently', 'ah', '9']\n",
      "Pictures ['in', 'you', 'this', 'was', 'with']\n",
      "gonewild ['happy', 'has', 'ill', 'pics', 'say']\n",
      "gossip ['auto', 'insurance', 'with', 'term', 'online']\n",
      "LegalTeens ['that', 'of', 'is', 'deleted', 'it']\n",
      "Art ['see', 'people', 'way', 'them', 'reddit']\n",
      "it ['dei', 'nel', 'gli', 'anche', 'sono']\n",
      "Drugs ['effects', 'ill', 'else', 'effect', 'getting']\n",
      "unitedkingdom ['were', 'how', 'government', 'any', 'well']\n",
      "government ['was', 'people', 'government', 'states', 'about']\n",
      "firefox ['you', 'that', 'for', 'is', 'in']\n",
      "aprilfool2009 ['this', 'you', 'in', 'was', 'for']\n",
      "latinoamerica ['deleted', 'de', 'en', 'y']\n",
      "women ['whole', 'while', 'talking', 'course', 'anything']\n",
      "Physics ['physics', 'by', 'about', 'speed', 'like']\n",
      "bicycling ['different', 'bicycle', 'buy', 'anything', 'never']\n",
      "collaborative_hub ['help', 'one', 'something', 'just', 'has']\n",
      "motorcycles ['bike', 'im', 'or', 'riding', 'this']\n",
      "nsfw ['hell', 'hand', 'mypropsorg', 'arent', 'again']\n",
      "writing ['day', 'yourself', 'these', 'words', 'am']\n",
      "environment ['among', 'bags', 'age', 'agriculture', 'afford']\n",
      "Freethought ['world', 'too', 'word', 'may', 'into']\n",
      "bestof ['next', 'making', 'bad', 'another', 'agree']\n",
      "photography ['start', 'wide', 'getting', 'shutter', 'd90']\n",
      "AskReddit ['alpha', 'admitting', 'accordingly', '999', '247']\n",
      "guns ['308', 'completely', 'comment', 'city', '2nd']\n",
      "lost ['ben', 'from', 'dont', 'island', 'at']\n",
      "software ['for', 'have', 'in', 'on', 'with']\n",
      "Bad_Cop_No_Donut ['he', 'police', 'like', 'cops', 'just']\n",
      "UFOs ['me', 'about', 'at', 'what', 'an']\n",
      "soccer ['to', 'and', 'is', 'that', 'of']\n",
      "psychology ['her', 'need', 'school', 'ive', 'am']\n",
      "DIY ['do', 'so', 'just', 'they', 'one']\n",
      "vegan ['deleted', 'think', 'just', 'vegan', 'as']\n",
      "moviecritic ['my', 'movie', 'one', 'film', 'about']\n",
      "Health ['population', 'large', 'lifestyle', 'happy', 'fucking']\n",
      "reddit.com ['acne', 'acceleration', '510', '2ch', '1997']\n",
      "ireland ['are', 'be', 'on', 'have', 'this']\n",
      "conspiracies ['was', 'on', 'are', 'they', 'he']\n",
      "architecture ['for', 'that', 'it', 'this', 'be']\n",
      "entertainment ['canadian', 'boys', 'bill', 'aids', '2009']\n",
      "GameDeals ['on', 'have', 'at', 'game', 'was']\n",
      "beer ['good', 'beer', 'some', 'beers', 'what']\n",
      "todayilearned ['probably', 'new', 'bbc', 'am', 'always']\n",
      "Ubuntu ['gnome', '904', 'package', 'keyboard', 'jaunty']\n",
      "feminisms ['thing', 'rings', 'question', 'culture', 'back']\n",
      "Eve ['not', 'up', 'skills', 'get', 'eve']\n",
      "comics ['business', 'basically', 'band', 'artists', '5']\n",
      "philosophy ['concerning', 'changes', 'capable', 'cancer', 'appear']\n",
      "ads ['your', 'reddit', 'at', 'so', 'like']\n",
      "science ['agriculture', 'activities', 'achieve', 'absence', '2007']\n",
      "WebGames ['first', 'because', 'where', 'off', 'much']\n",
      "sex ['polyamory', 'called', 'cultures', 'call', '5']\n",
      "drunk ['to', 'of', 'you', 'my', 'on']\n",
      "ideasfortheadmins ['subreddit', 'up', 'why', 'me', 'know']\n",
      "ukpolitics ['always', 'these', 'say', 'quite', 'against']\n",
      "movies ['opinion', 'trailer', 'half', 'far', 'damn']\n",
      "Bacon ['too', 'looks', 'should', 'think', 'ive']\n",
      "Pets ['be', 'my', 'if', 'dog', 'but']\n",
      "cpp ['not', 'just', 'c', 'be', 'int']\n",
      "mexico ['el', 'los', 'es', 'por', 'se']\n",
      "911truth ['scientific', 'peer', 'path', 'come', 'journal']\n",
      "wikipedia ['case', 'system', 'society', 'japanese', 'heard']\n",
      "lists ['was', 'with', 'are', 'not', 'nnclipboard']\n",
      "law ['any', 'writing', 'who', 'court', 'really']\n",
      "haskell ['even', 'space', 'b', 'will', 'step']\n",
      "technology ['appeal', 'architecture', 'aol', '80s', '4gb']\n",
      "3cs ['deleted']\n",
      "self ['freedom', 'felt', 'doubt', 'definitely', 'clutch']\n",
      "Pandemic ['infected', 'likely', 'isnt', 'panic', 'death']\n",
      "worldnews ['accusations', 'abortion', 'ambassador', '46', '28']\n",
      "Poetry ['by', 'about', 'poem', 'some', 'its']\n",
      "xkcd ['at', 'up', 'by', 'from', 'about']\n",
      "programming ['acknowledge', 'accuracy', '810', '17', '2gb']\n",
      "netsec ['pretty', 'file', 'off', 'did', 'always']\n",
      "Documentaries ['for', 'this', 'you', 'was', 'on']\n",
      "aww ['cute', 'would', 'they', 'cat', 'more']\n",
      "Guitar ['guitar', 'so', 'good', 'play', 'just']\n",
      "ronpaul ['one', 'has', 'its', 'dont', 'out']\n",
      "conspiracy ['based', 'energy', 'apparently', 'almost', '1']\n",
      "video ['his', 'as', 'deleted', 'people', 'or']\n",
      "es ['deleted']\n",
      "lolcats ['it', 'in', 'my', 'cat', 'this']\n",
      "Military ['also', 'then', 'had', 'other', 'been']\n",
      "happy ['find', 'those', 'makes', 'down', 'anything']\n",
      "meetup ['at', 'not', 'we', 'out', 'have']\n",
      "scifi ['networks', 'hours', 'explanation', 'amp', '8']\n",
      "HappyBirthday ['birthday', 'cake', 'well', 'up', 'at']\n",
      "rpg ['give', 'spells', 'licensing', 'back', '3']\n",
      "skeptic ['government', 'work', 'thats', 'said', 'isnt']\n",
      "news ['criminal', 'ban', 'allow', 'actual', '5']\n",
      "Libertarian ['equal', 'caused', 'begin', 'articles', '4']\n",
      "gadgets ['comment', 'devices', 'card', 'bought', 'anyway']\n",
      "TheistVsAtheist ['will', 'jesus', 'only', 'being', 'how']\n",
      "books ['stephen', 'idea', 'scifi', 'god', 'completely']\n",
      "islam ['quran', 'at', 'him', 'just', 'created']\n",
      "travel ['can', 'will', 'so', 'some', 'as']\n",
      "anime ['bebop', 'see', 'gits', 'were', 'cyberpunk']\n",
      "Equality ['committed', 'beyond', 'ass', 'assault', 'abused']\n"
     ]
    }
   ],
   "source": [
    "for s in sub_dict:\n",
    "    print(s, \n",
    "          list(dict(sorted(sub_dict[s].items(), \n",
    "                      key=lambda item: item[1])[-5:]).keys()))"
   ]
  },
  {
   "cell_type": "code",
   "execution_count": null,
   "metadata": {},
   "outputs": [],
   "source": []
  },
  {
   "cell_type": "code",
   "execution_count": null,
   "metadata": {},
   "outputs": [],
   "source": []
  }
 ],
 "metadata": {
  "kernelspec": {
   "display_name": "Python 3",
   "language": "python",
   "name": "python3"
  },
  "language_info": {
   "codemirror_mode": {
    "name": "ipython",
    "version": 3
   },
   "file_extension": ".py",
   "mimetype": "text/x-python",
   "name": "python",
   "nbconvert_exporter": "python",
   "pygments_lexer": "ipython3",
   "version": "3.7.6"
  }
 },
 "nbformat": 4,
 "nbformat_minor": 4
}
